{
  "nbformat": 4,
  "nbformat_minor": 0,
  "metadata": {
    "colab": {
      "provenance": [],
      "toc_visible": true
    },
    "kernelspec": {
      "name": "python3",
      "display_name": "Python 3"
    },
    "language_info": {
      "name": "python"
    }
  },
  "cells": [
    {
      "cell_type": "code",
      "execution_count": null,
      "metadata": {
        "id": "1rY9xH2gVPKP"
      },
      "outputs": [],
      "source": [
        "#1\n",
        "#Types of Applications:\n",
        "#1.Based on Platform :- Desktop, Web, Mobile, Hybrid\n",
        "#2.Based on Functionality :- Productivity, Business, Multimedia, Educational, Communication, Entertainment, Utility\n",
        "#3.Based on Deployment :- On-Premise, Cloud\n",
        "#4.Based on Usage :- General-purpose, Special-purpose"
      ]
    },
    {
      "cell_type": "code",
      "source": [
        "#2\n",
        "#Programming is the process of writing instructions (code) in a computer language to make a computer perform specific tasks or solve problems."
      ],
      "metadata": {
        "id": "CZll7usDWDm5"
      },
      "execution_count": null,
      "outputs": []
    },
    {
      "cell_type": "code",
      "source": [
        "#3\n",
        "#Python is a high-level, interpreted, and general-purpose programming language known for its simplicity, readability, and wide use in web development, data science, AI, automation, and more."
      ],
      "metadata": {
        "id": "05jklSXFWbHb"
      },
      "execution_count": null,
      "outputs": []
    },
    {
      "cell_type": "code",
      "source": [
        "#4\n",
        "# Program to check if a number is positive, negative, or zero\n",
        "\n",
        "num = float(input(\"Enter a number: \"))\n",
        "\n",
        "if num > 0:\n",
        "    print(\"The number is Positive.\")\n",
        "elif num < 0:\n",
        "    print(\"The number is Negative.\")\n",
        "else:\n",
        "    print(\"The number is Zero.\")\n"
      ],
      "metadata": {
        "colab": {
          "base_uri": "https://localhost:8080/"
        },
        "id": "Rx0Po9-vWnHS",
        "outputId": "4ab8fecf-17ef-4ca8-ae54-ad6275d0a845"
      },
      "execution_count": null,
      "outputs": [
        {
          "output_type": "stream",
          "name": "stdout",
          "text": [
            "Enter a number: -4\n",
            "The number is Negative.\n"
          ]
        }
      ]
    },
    {
      "cell_type": "code",
      "source": [
        "#5\n",
        "# Program to find factorial of a number\n",
        "\n",
        "num = int(input(\"Enter a number: \"))\n",
        "\n",
        "factorial = 1\n",
        "\n",
        "if num < 0:\n",
        "    print(\"factorial does not exist for negative numbers.\")\n",
        "else:\n",
        "    for i in range(1,6):\n",
        "        factorial *= i\n",
        "    print(f\"The factorial of {num} is {factorial}.\")"
      ],
      "metadata": {
        "colab": {
          "base_uri": "https://localhost:8080/"
        },
        "id": "1yoJcyy1XBlb",
        "outputId": "dddb95ae-b168-4da7-db8f-e15abb8282c2"
      },
      "execution_count": null,
      "outputs": [
        {
          "output_type": "stream",
          "name": "stdout",
          "text": [
            "Enter a number: 5\n",
            "The factorial of 5 is 120.\n"
          ]
        }
      ]
    },
    {
      "cell_type": "code",
      "source": [
        "#6\n",
        "# Fibonacci series using for loop\n",
        "\n",
        "n = int(input(\"Enter the number of terms: \"))\n",
        "\n",
        "a, b = 0, 1\n",
        "\n",
        "print(\"Fibonacci series:\")\n",
        "\n",
        "for i in range(n):\n",
        "    print(a, end=\" \")\n",
        "    a, b = b, a + b\n"
      ],
      "metadata": {
        "colab": {
          "base_uri": "https://localhost:8080/"
        },
        "id": "fzUzdr56Yqk2",
        "outputId": "9ff67169-ccab-4cb7-bdac-87a96954c0fe"
      },
      "execution_count": null,
      "outputs": [
        {
          "output_type": "stream",
          "name": "stdout",
          "text": [
            "Enter the number of terms: 7\n",
            "Fibonacci series:\n",
            "0 1 1 2 3 5 8 "
          ]
        }
      ]
    },
    {
      "cell_type": "code",
      "source": [
        "#7\n",
        "#In Python, memory is managed automatically using a private heap space, a memory manager, and garbage collection (reference counting + cyclic GC) which frees unused memory."
      ],
      "metadata": {
        "id": "eHC7E8lMasXq"
      },
      "execution_count": null,
      "outputs": []
    },
    {
      "cell_type": "code",
      "source": [
        "#8\n",
        "#The continue statement in Python is used inside loops to skip the current iteration and move to the next iteration of the loop.\n",
        "\n",
        "# Purpose: To bypass part of the loop when a certain condition is met, without stopping the loop."
      ],
      "metadata": {
        "id": "sV3azoxEbPd2"
      },
      "execution_count": null,
      "outputs": []
    },
    {
      "cell_type": "code",
      "source": [
        "#9\n",
        "# Swap using temp variable\n",
        "\n",
        "a = int(input(\"Enter first number: \"))\n",
        "b = int(input(\"Enter second number: \"))\n",
        "\n",
        "print(\"Before swapping: a =\", a, \" b =\", b)\n",
        "\n",
        "temp = a\n",
        "a = b\n",
        "b = temp\n",
        "\n",
        "print(\"After swapping: a =\", a, \" b =\", b)\n"
      ],
      "metadata": {
        "colab": {
          "base_uri": "https://localhost:8080/"
        },
        "id": "Z7PbwwP0bn-0",
        "outputId": "8a1d687b-1063-4b92-c6bc-55ed1b04c0a3"
      },
      "execution_count": null,
      "outputs": [
        {
          "output_type": "stream",
          "name": "stdout",
          "text": [
            "Enter first number: 5\n",
            "Enter second number: 10\n",
            "Before swapping: a = 5  b = 10\n",
            "After swapping: a = 10  b = 5\n"
          ]
        }
      ]
    },
    {
      "cell_type": "code",
      "source": [
        "#9\n",
        "# Swap without temp variable\n",
        "\n",
        "x = int(input(\"Enter first number: \"))\n",
        "y = int(input(\"Enter second number: \"))\n",
        "\n",
        "print(\"Before swapping: x =\", x, \" y =\", y)\n",
        "\n",
        "x, y = y, x\n",
        "\n",
        "print(\"After swapping: x =\", x, \" y =\", y)\n"
      ],
      "metadata": {
        "colab": {
          "base_uri": "https://localhost:8080/"
        },
        "id": "4nAGb5ffcE3M",
        "outputId": "9ea30f23-1b12-433e-de43-5800eab461a6"
      },
      "execution_count": null,
      "outputs": [
        {
          "output_type": "stream",
          "name": "stdout",
          "text": [
            "Enter first number: 10\n",
            "Enter second number: 5\n",
            "Before swapping: x = 10  y = 5\n",
            "After swapping: x = 5  y = 10\n"
          ]
        }
      ]
    },
    {
      "cell_type": "code",
      "source": [
        "#10\n",
        "# Program to check even or odd number\n",
        "\n",
        "num = int(input(\"Enter a number: \"))\n",
        "\n",
        "if num % 2 == 0:\n",
        "    print(f\"{num} is Even.\")\n",
        "else:\n",
        "    print(f\"{num} is Odd.\")\n"
      ],
      "metadata": {
        "colab": {
          "base_uri": "https://localhost:8080/"
        },
        "id": "iMIoLfsHcQYu",
        "outputId": "7ef6c0ba-5974-435e-a7b2-0e016203b5b4"
      },
      "execution_count": null,
      "outputs": [
        {
          "output_type": "stream",
          "name": "stdout",
          "text": [
            "Enter a number: 6\n",
            "6 is Even.\n"
          ]
        }
      ]
    },
    {
      "cell_type": "code",
      "source": [
        "#11\n",
        "# Program to check if a letter is vowel or not\n",
        "\n",
        "letter = input(\"Enter a letter: \")\n",
        "\n",
        "if letter in ('a', 'e', 'i', 'o', 'u'):\n",
        "    print(f\"{letter} is a Vowel.\")\n",
        "else:\n",
        "    print(f\"{letter} is NOT a Vowel.\")\n"
      ],
      "metadata": {
        "colab": {
          "base_uri": "https://localhost:8080/"
        },
        "id": "YMsdiSUYct7h",
        "outputId": "b5360eae-e9fe-4629-8517-55af02562177"
      },
      "execution_count": null,
      "outputs": [
        {
          "output_type": "stream",
          "name": "stdout",
          "text": [
            "Enter a letter: S\n",
            "S is NOT a Vowel.\n"
          ]
        }
      ]
    },
    {
      "cell_type": "code",
      "source": [
        "#12\n",
        "# Program to find sum of three integers\n",
        "# If any two values are equal, sum will be zero\n",
        "\n",
        "a = int(input(\"Enter first number: \"))\n",
        "b = int(input(\"Enter second number: \"))\n",
        "c = int(input(\"Enter third number: \"))\n",
        "\n",
        "if a == b or b == c or a == c:\n",
        "    result = 0\n",
        "else:\n",
        "    result = a + b + c\n",
        "\n",
        "print(\"Result:\", result)\n"
      ],
      "metadata": {
        "colab": {
          "base_uri": "https://localhost:8080/"
        },
        "id": "iro9mHqndEB_",
        "outputId": "9da25e7e-b10f-4061-f941-63b4ea63a418"
      },
      "execution_count": null,
      "outputs": [
        {
          "output_type": "stream",
          "name": "stdout",
          "text": [
            "Enter first number: 20\n",
            "Enter second number: 6\n",
            "Enter third number: 03\n",
            "Result: 29\n"
          ]
        }
      ]
    },
    {
      "cell_type": "code",
      "source": [
        "#13\n",
        "# Program to check if two integers are equal\n",
        "# or their sum or difference is 5\n",
        "\n",
        "a = int(input(\"Enter first number: \"))\n",
        "b = int(input(\"Enter second number: \"))\n",
        "\n",
        "if a == b or (a + b == 5) or (abs(a - b) == 5):\n",
        "    print(\"True\")\n",
        "else:\n",
        "    print(\"False\")\n"
      ],
      "metadata": {
        "colab": {
          "base_uri": "https://localhost:8080/"
        },
        "id": "XqWFPKW7dzVV",
        "outputId": "2346d764-7839-4f48-91bb-f72a0c4e20e8"
      },
      "execution_count": null,
      "outputs": [
        {
          "output_type": "stream",
          "name": "stdout",
          "text": [
            "Enter first number: 6\n",
            "Enter second number: 11\n",
            "True\n"
          ]
        }
      ]
    },
    {
      "cell_type": "code",
      "source": [
        "#14\n",
        "# Program to find sum of first n positive integers\n",
        "\n",
        "n = int(input(\"Enter a positive integer: \"))\n",
        "\n",
        "total = 0\n",
        "for i in range(1, n + 1):\n",
        "    total += i\n",
        "\n",
        "print(f\"Sum of first {n} positive integers is: {total}\")\n"
      ],
      "metadata": {
        "colab": {
          "base_uri": "https://localhost:8080/"
        },
        "id": "qp5gD0blegeL",
        "outputId": "19a6f39f-aecc-4ae2-f07b-b91c4653aeb6"
      },
      "execution_count": null,
      "outputs": [
        {
          "output_type": "stream",
          "name": "stdout",
          "text": [
            "Enter a positive integer: 10\n",
            "Sum of first 10 positive integers is: 55\n"
          ]
        }
      ]
    },
    {
      "cell_type": "code",
      "source": [
        "#15\n",
        "# Program to calculate length of a string\n",
        "\n",
        "text = input(\"Enter a string: \")\n",
        "\n",
        "length = 0\n",
        "for char in text:\n",
        "    length += 1\n",
        "\n",
        "print(\"Length of the string is:\", length)\n"
      ],
      "metadata": {
        "colab": {
          "base_uri": "https://localhost:8080/"
        },
        "id": "-QzFMiFkfJT9",
        "outputId": "932d7ac4-8783-4d38-e62e-df0eebb29f99"
      },
      "execution_count": null,
      "outputs": [
        {
          "output_type": "stream",
          "name": "stdout",
          "text": [
            "Enter a string: shruti\n",
            "Length of the string is: 6\n"
          ]
        }
      ]
    },
    {
      "cell_type": "code",
      "source": [
        "#16\n",
        "# Program to count character frequency in a string\n",
        "\n",
        "text = input(\"Enter a string: \")\n",
        "\n",
        "frequency = {}\n",
        "\n",
        "for char in text:\n",
        "    if char in frequency:\n",
        "        frequency[char] += 1\n",
        "    else:\n",
        "        frequency[char] = 1\n",
        "\n",
        "print(\"Character frequencies:\")\n",
        "for key, value in frequency.items():\n",
        "    print(f\"{key} : {value}\")\n"
      ],
      "metadata": {
        "colab": {
          "base_uri": "https://localhost:8080/"
        },
        "id": "Rt868CVXfi0n",
        "outputId": "973052f1-a730-45d2-c7cc-f12bee151a87"
      },
      "execution_count": null,
      "outputs": [
        {
          "output_type": "stream",
          "name": "stdout",
          "text": [
            "Enter a string: johoo\n",
            "Character frequencies:\n",
            "j : 1\n",
            "o : 3\n",
            "h : 1\n"
          ]
        }
      ]
    },
    {
      "cell_type": "code",
      "source": [
        "#17\n",
        "#Negative Indexes in Python\n",
        "#In Python, negative indexes are used to access elements of a sequence (like list, string, tuple) from the end instead of the beginning.\n",
        "#-1 refers to the last element, -2 to the second last, and so on.\n",
        "\n",
        "#Why are they used?\n",
        "\n",
        "#To easily access elements from the end without needing to calculate the exact positive index.\n",
        "\n",
        "#Makes code shorter and more readable.\n",
        "\n"
      ],
      "metadata": {
        "id": "cDpDIuVPgVJE"
      },
      "execution_count": null,
      "outputs": []
    },
    {
      "cell_type": "code",
      "source": [
        "#18\n",
        "# Program to count occurrences of a substring in a string\n",
        "\n",
        "text = input(\"Enter the main string: \")\n",
        "sub = input(\"Enter the substring to search: \")\n",
        "\n",
        "count = text.count(sub)\n",
        "\n",
        "print(f\"The substring '{sub}' occurs {count} times in the given string.\")\n"
      ],
      "metadata": {
        "colab": {
          "base_uri": "https://localhost:8080/"
        },
        "id": "Fd-F2nG9h8Jv",
        "outputId": "2fdbce00-f1ce-4961-8284-38316ecbdbb5"
      },
      "execution_count": null,
      "outputs": [
        {
          "output_type": "stream",
          "name": "stdout",
          "text": [
            "Enter the main string: hello code,hello python\n",
            "Enter the substring to search: hello\n",
            "The substring 'hello' occurs 2 times in the given string.\n"
          ]
        }
      ]
    },
    {
      "cell_type": "code",
      "source": [
        "#19\n",
        "# Program to count occurrences of each word in a sentence\n",
        "\n",
        "sentence = input(\"Enter a sentence: \")\n",
        "\n",
        "words = sentence.split()\n",
        "frequency = {}\n",
        "\n",
        "for word in words:\n",
        "    word = word.lower()\n",
        "    if word in frequency:\n",
        "        frequency[word] += 1\n",
        "    else:\n",
        "        frequency[word] = 1\n",
        "\n",
        "print(\"Word frequencies:\")\n",
        "for key, value in frequency.items():\n",
        "    print(f\"{key} : {value}\")\n"
      ],
      "metadata": {
        "colab": {
          "base_uri": "https://localhost:8080/"
        },
        "id": "cIi3W4PXh8Gb",
        "outputId": "6d2e4e07-5392-4a90-fff5-fb807d5ca14b"
      },
      "execution_count": null,
      "outputs": [
        {
          "output_type": "stream",
          "name": "stdout",
          "text": [
            "Enter a sentence: hello code hello python\n",
            "Word frequencies:\n",
            "hello : 2\n",
            "code : 1\n",
            "python : 1\n"
          ]
        }
      ]
    },
    {
      "cell_type": "code",
      "source": [
        "#20\n",
        "# Program to join two strings with space and swap first two characters\n",
        "\n",
        "str1 = input(\"Enter first string: \")\n",
        "str2 = input(\"Enter second string: \")\n",
        "\n",
        "# swap first two characters\n",
        "new_str1 = str2[:2] + str1[2:]\n",
        "new_str2 = str1[:2] + str2[2:]\n",
        "\n",
        "# join with space\n",
        "result = new_str1 + \" \" + new_str2\n",
        "\n",
        "print(\"Result:\", result)\n"
      ],
      "metadata": {
        "colab": {
          "base_uri": "https://localhost:8080/"
        },
        "id": "5xH7uZQojUf0",
        "outputId": "5f05ffca-42e1-4f4a-9e07-1c6c14bd50dd"
      },
      "execution_count": null,
      "outputs": [
        {
          "output_type": "stream",
          "name": "stdout",
          "text": [
            "Enter first string: abc\n",
            "Enter second string: xyz\n",
            "Result: xyc abz\n"
          ]
        }
      ]
    },
    {
      "cell_type": "code",
      "source": [
        "#21\n",
        "# Program to modify a string based on given conditions\n",
        "\n",
        "s = input(\"Enter a string: \")\n",
        "\n",
        "if len(s) < 3:\n",
        "    result = s\n",
        "elif s.endswith(\"ing\"):\n",
        "    result = s + \"ly\"\n",
        "else:\n",
        "    result = s + \"ing\"\n",
        "\n",
        "print(\"Result:\", result)\n"
      ],
      "metadata": {
        "colab": {
          "base_uri": "https://localhost:8080/"
        },
        "id": "k53WgKc0kcuU",
        "outputId": "e13378c0-bdd9-4e53-8823-1cf05ca15293"
      },
      "execution_count": null,
      "outputs": [
        {
          "output_type": "stream",
          "name": "stdout",
          "text": [
            "Enter a string: walk\n",
            "Result: walking\n"
          ]
        }
      ]
    },
    {
      "cell_type": "code",
      "source": [
        "#22\n",
        "# Function to reverse a string if its length is a multiple of 4\n",
        "\n",
        "def reverse_if_multiple_of_4(s):\n",
        "    if len(s) % 4 == 0:\n",
        "        return s[::-1]\n",
        "    else:\n",
        "        return s\n",
        "\n",
        "# Input\n",
        "text = input(\"Enter a string: \")\n",
        "print(\"Result:\", reverse_if_multiple_of_4(text))\n"
      ],
      "metadata": {
        "colab": {
          "base_uri": "https://localhost:8080/"
        },
        "id": "RtFOoa2ClBJB",
        "outputId": "eb52020c-be69-4612-bc2e-ebfb40f2178a"
      },
      "execution_count": null,
      "outputs": [
        {
          "output_type": "stream",
          "name": "stdout",
          "text": [
            "Enter a string: cook\n",
            "Result: kooc\n"
          ]
        }
      ]
    },
    {
      "cell_type": "code",
      "source": [
        "#23\n",
        "# Program to get string made of first 2 and last 2 characters\n",
        "\n",
        "def first_last_two(s):\n",
        "    if len(s) < 2:\n",
        "        return \"\"\n",
        "    return s[:2] + s[-2:]\n",
        "\n",
        "# Input\n",
        "text = input(\"Enter a string: \")\n",
        "print(\"Result:\", first_last_two(text))\n"
      ],
      "metadata": {
        "colab": {
          "base_uri": "https://localhost:8080/"
        },
        "id": "c-H5yaydllQ5",
        "outputId": "44a71c11-f3ab-4067-92b0-448d2057b7be"
      },
      "execution_count": null,
      "outputs": [
        {
          "output_type": "stream",
          "name": "stdout",
          "text": [
            "Enter a string: python\n",
            "Result: pyon\n"
          ]
        }
      ]
    },
    {
      "cell_type": "code",
      "source": [
        "#24\n",
        "# Function to insert a string in the middle of another string\n",
        "\n",
        "def insert_middle(main_str, insert_str):\n",
        "    mid = len(main_str) // 2\n",
        "    return main_str[:mid] + insert_str + main_str[mid:]\n",
        "\n",
        "# Input\n",
        "main = input(\"Enter the main string: \")\n",
        "insert = input(\"Enter the string to insert: \")\n",
        "\n",
        "print(\"Result:\", insert_middle(main, insert))\n"
      ],
      "metadata": {
        "colab": {
          "base_uri": "https://localhost:8080/"
        },
        "id": "CJheNyokl_11",
        "outputId": "307515f2-f986-4ea4-8c48-99df101f2633"
      },
      "execution_count": null,
      "outputs": [
        {
          "output_type": "stream",
          "name": "stdout",
          "text": [
            "Enter the main string: hellocode\n",
            "Enter the string to insert: python\n",
            "Result: hellpythonocode\n"
          ]
        }
      ]
    },
    {
      "cell_type": "code",
      "source": [
        "#25\n",
        "#A list is a built-in data structure in Python that is used to store multiple items in a single variable.\n",
        "#Lists are ordered, mutable (changeable), and allow duplicates.\n",
        "#Lists are written inside square brackets []\n",
        "\n",
        "#A list is a collection of ordered, changeable items in Python.\n",
        "#You can reverse it using .reverse(), slicing ([::-1]), or reversed()."
      ],
      "metadata": {
        "id": "L2I_IND3mPnP"
      },
      "execution_count": null,
      "outputs": []
    },
    {
      "cell_type": "code",
      "source": [
        "#26\n",
        "#use list.pop() to remove the last object.\n"
      ],
      "metadata": {
        "id": "EOGVmhm6nIDh"
      },
      "execution_count": null,
      "outputs": []
    },
    {
      "cell_type": "code",
      "source": [
        "#27\n",
        "list1 = [2, 33, 222, 14, 25]\n",
        "list1[-1]\n"
      ],
      "metadata": {
        "colab": {
          "base_uri": "https://localhost:8080/"
        },
        "id": "WEmy1aEmnbEM",
        "outputId": "65ce66d0-d309-41e2-9ff7-49bbe0571088"
      },
      "execution_count": null,
      "outputs": [
        {
          "output_type": "execute_result",
          "data": {
            "text/plain": [
              "25"
            ]
          },
          "metadata": {},
          "execution_count": 38
        }
      ]
    },
    {
      "cell_type": "code",
      "source": [
        "#28\n",
        "#| Feature  | `append()`                              | `extend()`                                 |\n",
        "#| -------- | --------------------------------------- | ------------------------------------------ |\n",
        "#| Adds     | Single element                          | Multiple elements (iterable)               |\n",
        "#| Behavior | Adds object as it is (nested if list)   | Iterates through object and adds each item |\n",
        "#| Example  | `[1,2,3].append([4,5]) → [1,2,3,[4,5]]` | `[1,2,3].extend([4,5]) → [1,2,3,4,5]`      |\n"
      ],
      "metadata": {
        "id": "MWA2jCzUnzeV"
      },
      "execution_count": null,
      "outputs": []
    },
    {
      "cell_type": "code",
      "source": [
        "#29\n",
        "# Function to get largest, smallest and sum of list\n",
        "def list_stats(numbers):\n",
        "    largest = max(numbers)\n",
        "    smallest = min(numbers)\n",
        "    total = sum(numbers)\n",
        "    return largest, smallest, total\n",
        "\n",
        "# Input\n",
        "my_list = [2, 33, 222, 14, 25]\n",
        "\n",
        "largest, smallest, total = list_stats(my_list)\n",
        "\n",
        "print(\"Largest number:\", largest)\n",
        "print(\"Smallest number:\", smallest)\n",
        "print(\"Sum of all numbers:\", total)\n",
        "\n"
      ],
      "metadata": {
        "colab": {
          "base_uri": "https://localhost:8080/"
        },
        "id": "LjbGflcXoSnf",
        "outputId": "89a47c5c-b83d-41c0-c96d-a1722b910119"
      },
      "execution_count": null,
      "outputs": [
        {
          "output_type": "stream",
          "name": "stdout",
          "text": [
            "Largest number: 222\n",
            "Smallest number: 2\n",
            "Sum of all numbers: 296\n"
          ]
        }
      ]
    },
    {
      "cell_type": "code",
      "source": [
        "#30\n",
        "#Use == for exact match (order + values).\n",
        "\n",
        "#Use sorted() if only values matter (order doesn’t).\n",
        "\n",
        "#Use loops for custom comparison.\n"
      ],
      "metadata": {
        "id": "_aAljLLXoeAl"
      },
      "execution_count": null,
      "outputs": []
    },
    {
      "cell_type": "code",
      "source": [
        "#31\n",
        "def match_strings(words):\n",
        "    count = 0\n",
        "    for word in words:\n",
        "        if len(word) >= 2 and word[0] == word[-1]:\n",
        "            count += 1\n",
        "    return count\n",
        "\n",
        "# Example usage:\n",
        "string_list = ['abc', 'xyz', 'aba', '1221', 'aa', 'b']\n",
        "print(\"List of strings:\", string_list)\n",
        "print(\"Number of strings with length >= 2 and same first & last character:\", match_strings(string_list))\n"
      ],
      "metadata": {
        "colab": {
          "base_uri": "https://localhost:8080/"
        },
        "id": "7f0yJd0n9-EE",
        "outputId": "90f3b843-09d9-4907-d688-bfa815c0a793"
      },
      "execution_count": null,
      "outputs": [
        {
          "output_type": "stream",
          "name": "stdout",
          "text": [
            "List of strings: ['abc', 'xyz', 'aba', '1221', 'aa', 'b']\n",
            "Number of strings with length >= 2 and same first & last character: 3\n"
          ]
        }
      ]
    },
    {
      "cell_type": "code",
      "source": [
        "#32\n",
        "def remove_duplicates_order(lst):\n",
        "    result = []\n",
        "    for item in lst:\n",
        "        if item not in result:\n",
        "            result.append(item)\n",
        "    return result\n",
        "\n",
        "# Example usage\n",
        "numbers = [1, 2, 3, 2, 4, 1, 5, 3]\n",
        "print(\"Original list:\", numbers)\n",
        "print(\"After removing duplicates (order preserved):\", remove_duplicates_order(numbers))\n"
      ],
      "metadata": {
        "colab": {
          "base_uri": "https://localhost:8080/"
        },
        "id": "OppW4fi_-BSb",
        "outputId": "d72f120d-8bea-44e5-993b-23338df51bbe"
      },
      "execution_count": null,
      "outputs": [
        {
          "output_type": "stream",
          "name": "stdout",
          "text": [
            "Original list: [1, 2, 3, 2, 4, 1, 5, 3]\n",
            "After removing duplicates (order preserved): [1, 2, 3, 4, 5]\n"
          ]
        }
      ]
    },
    {
      "cell_type": "code",
      "source": [
        "#33\n",
        "def check_empty(lst):\n",
        "    if not lst:\n",
        "        print(\"The list is empty\")\n",
        "    else:\n",
        "        print(\"The list is not empty\")\n",
        "\n",
        "# Example usage\n",
        "list1 = []\n",
        "list2 = [10, 20, 30]\n",
        "\n",
        "check_empty(list1)\n",
        "check_empty(list2)\n",
        "\n"
      ],
      "metadata": {
        "colab": {
          "base_uri": "https://localhost:8080/"
        },
        "id": "nSR8i0Oq-ieF",
        "outputId": "138dcc58-afd3-40b7-b513-abeb70c80613"
      },
      "execution_count": null,
      "outputs": [
        {
          "output_type": "stream",
          "name": "stdout",
          "text": [
            "The list is empty\n",
            "The list is not empty\n"
          ]
        }
      ]
    },
    {
      "cell_type": "code",
      "source": [
        "#34\n",
        "def common_member(list1, list2):\n",
        "    for item in list1:\n",
        "        if item in list2:\n",
        "            return True\n",
        "    return False\n",
        "\n",
        "# Example\n",
        "list_a = [1, 2, 3, 4, 5]\n",
        "list_b = [6, 7, 8, 9]\n",
        "list_c = [5, 10, 15]\n",
        "\n",
        "print(common_member(list_a, list_b))  # False\n",
        "print(common_member(list_a, list_c))  # True\n",
        "\n"
      ],
      "metadata": {
        "colab": {
          "base_uri": "https://localhost:8080/"
        },
        "id": "81FIiCGv-s8o",
        "outputId": "e6e0c142-2a1a-4683-8d71-d3fa1a6bd017"
      },
      "execution_count": null,
      "outputs": [
        {
          "output_type": "stream",
          "name": "stdout",
          "text": [
            "False\n",
            "True\n"
          ]
        }
      ]
    },
    {
      "cell_type": "code",
      "source": [
        "#35\n",
        "def square_list():\n",
        "    # Generate list of squares from 1 to 30\n",
        "    squares = [x**2 for x in range(1, 31)]\n",
        "\n",
        "    # Print first 5 and last 5 elements\n",
        "    print(\"First 5 elements:\", squares[:5])\n",
        "    print(\"Last 5 elements:\", squares[-5:])\n",
        "\n",
        "# Example usage\n",
        "square_list()\n",
        "\n"
      ],
      "metadata": {
        "colab": {
          "base_uri": "https://localhost:8080/"
        },
        "id": "x-sPOwvV-6Kq",
        "outputId": "07930545-4032-4720-de05-01ce517afa8d"
      },
      "execution_count": null,
      "outputs": [
        {
          "output_type": "stream",
          "name": "stdout",
          "text": [
            "First 5 elements: [1, 4, 9, 16, 25]\n",
            "Last 5 elements: [676, 729, 784, 841, 900]\n"
          ]
        }
      ]
    },
    {
      "cell_type": "code",
      "source": [
        "#36\n",
        "def unique_elements(lst):\n",
        "    unique_list = []\n",
        "    for item in lst:\n",
        "        if item not in unique_list:\n",
        "            unique_list.append(item)\n",
        "    return unique_list\n",
        "\n",
        "# Example usage\n",
        "numbers = [1, 2, 3, 2, 4, 1, 5, 3]\n",
        "print(\"Original list:\", numbers)\n",
        "print(\"Unique elements:\", unique_elements(numbers))\n"
      ],
      "metadata": {
        "colab": {
          "base_uri": "https://localhost:8080/"
        },
        "id": "rNZTptSS_KFC",
        "outputId": "5f0cb6ff-8815-44e3-9d8b-d5bbf44c9a3e"
      },
      "execution_count": null,
      "outputs": [
        {
          "output_type": "stream",
          "name": "stdout",
          "text": [
            "Original list: [1, 2, 3, 2, 4, 1, 5, 3]\n",
            "Unique elements: [1, 2, 3, 4, 5]\n"
          ]
        }
      ]
    },
    {
      "cell_type": "code",
      "source": [
        "#37\n",
        "def list_to_string(char_list):\n",
        "    return \"\".join(char_list)\n",
        "\n",
        "# Example usage\n",
        "chars = ['H', 'e', 'l', 'l', 'o']\n",
        "print(\"List of characters:\", chars)\n",
        "print(\"Converted string:\", list_to_string(chars))\n"
      ],
      "metadata": {
        "colab": {
          "base_uri": "https://localhost:8080/"
        },
        "id": "thaf1I2A_U-f",
        "outputId": "91e79367-fe38-43a3-caf2-56d087ec85b2"
      },
      "execution_count": null,
      "outputs": [
        {
          "output_type": "stream",
          "name": "stdout",
          "text": [
            "List of characters: ['H', 'e', 'l', 'l', 'o']\n",
            "Converted string: Hello\n"
          ]
        }
      ]
    },
    {
      "cell_type": "code",
      "source": [
        "#38\n",
        "import random\n",
        "\n",
        "def random_item(lst):\n",
        "    return random.choice(lst)\n",
        "\n",
        "# Example usage\n",
        "items = [10, 20, 30, 40, 50, \"Hello\", \"Python\"]\n",
        "print(\"Original list:\", items)\n",
        "print(\"Randomly selected item:\", random_item(items))\n"
      ],
      "metadata": {
        "colab": {
          "base_uri": "https://localhost:8080/"
        },
        "id": "kxSOIZai_kiP",
        "outputId": "5415d786-6230-4e16-d8da-3c3723468022"
      },
      "execution_count": null,
      "outputs": [
        {
          "output_type": "stream",
          "name": "stdout",
          "text": [
            "Original list: [10, 20, 30, 40, 50, 'Hello', 'Python']\n",
            "Randomly selected item: 40\n"
          ]
        }
      ]
    },
    {
      "cell_type": "code",
      "source": [
        "#39\n",
        "def second_smallest(lst):\n",
        "    unique_list = list(set(lst))\n",
        "    if len(unique_list) < 2:\n",
        "        return None\n",
        "    unique_list.sort()\n",
        "    return unique_list[1]\n",
        "\n",
        "# Example usage\n",
        "numbers = [5, 3, 9, 1, 3, 7, 1]\n",
        "print(\"Original list:\", numbers)\n",
        "print(\"Second smallest number:\", second_smallest(numbers))\n"
      ],
      "metadata": {
        "colab": {
          "base_uri": "https://localhost:8080/"
        },
        "id": "2GTeEyTb_4Jt",
        "outputId": "c62f0b6a-998f-4462-888e-25f4b23ac225"
      },
      "execution_count": null,
      "outputs": [
        {
          "output_type": "stream",
          "name": "stdout",
          "text": [
            "Original list: [5, 3, 9, 1, 3, 7, 1]\n",
            "Second smallest number: 3\n"
          ]
        }
      ]
    },
    {
      "cell_type": "code",
      "source": [
        "#40\n",
        "def unique_values(lst):\n",
        "    unique_list = []\n",
        "    for item in lst:\n",
        "        if item not in unique_list:\n",
        "            unique_list.append(item)\n",
        "    return unique_list\n",
        "\n",
        "# Example usage\n",
        "numbers = [1, 2, 3, 2, 4, 1, 5, 3]\n",
        "print(\"Unique values (order preserved):\", unique_values(numbers))\n"
      ],
      "metadata": {
        "colab": {
          "base_uri": "https://localhost:8080/"
        },
        "id": "T09GAeF2ALtB",
        "outputId": "85a726bd-572b-4dad-dfe1-8063b6184e86"
      },
      "execution_count": null,
      "outputs": [
        {
          "output_type": "stream",
          "name": "stdout",
          "text": [
            "Unique values (order preserved): [1, 2, 3, 4, 5]\n"
          ]
        }
      ]
    },
    {
      "cell_type": "code",
      "source": [
        "#41\n",
        "def contains_sublist(lst, sublst):\n",
        "    sub_len = len(sublst)\n",
        "    for i in range(len(lst) - sub_len + 1):\n",
        "        if lst[i:i + sub_len] == sublst:\n",
        "            return True\n",
        "    return False\n",
        "\n",
        "# Example usage\n",
        "main_list = [1, 2, 3, 4, 5, 6]\n",
        "sub_list1 = [2, 3, 4]\n",
        "sub_list2 = [3, 5]\n",
        "\n",
        "print(contains_sublist(main_list, sub_list1))\n",
        "print(contains_sublist(main_list, sub_list2))\n"
      ],
      "metadata": {
        "colab": {
          "base_uri": "https://localhost:8080/"
        },
        "id": "aWafTnhPAdSf",
        "outputId": "0d76f539-cf8b-4a5a-aaed-31602072038a"
      },
      "execution_count": null,
      "outputs": [
        {
          "output_type": "stream",
          "name": "stdout",
          "text": [
            "True\n",
            "False\n"
          ]
        }
      ]
    },
    {
      "cell_type": "code",
      "source": [
        "#42\n",
        "# Original list\n",
        "my_list = [10, 20, 30]\n",
        "\n",
        "# Unpacking into variables\n",
        "a, b, c = my_list\n",
        "\n",
        "print(\"a =\", a)\n",
        "print(\"b =\", b)\n",
        "print(\"c =\", c)\n"
      ],
      "metadata": {
        "colab": {
          "base_uri": "https://localhost:8080/"
        },
        "id": "UadEz_cgAqVZ",
        "outputId": "0f5573a2-3ad5-48f1-9469-4531a69abeb7"
      },
      "execution_count": null,
      "outputs": [
        {
          "output_type": "stream",
          "name": "stdout",
          "text": [
            "a = 10\n",
            "b = 20\n",
            "c = 30\n"
          ]
        }
      ]
    },
    {
      "cell_type": "code",
      "source": [
        "#43\n",
        "#A tuple is an ordered collection of elements, just like a list, but immutable (cannot be changed after creation).\n",
        "#Defined using parentheses ().\n",
        "#Can contain elements of different data types.\n",
        "#Supports indexing, slicing, and iteration.\n",
        "\n",
        "##Difference between List and Tuple\n",
        "#| Feature         | List                                             | Tuple                            |\n",
        "#| --------------- | ------------------------------------------------ | -------------------------------- |\n",
        "#| **Syntax**      | `[]` (square brackets)                           | `()` (parentheses)               |\n",
        "#| **Mutability**  | Mutable (can change)                             | Immutable (cannot change)        |\n",
        "#| **Performance** | Slower                                           | Faster                           |\n",
        "#| **Methods**     | Many built-in methods (`append`, `remove`, etc.) | Fewer methods (`count`, `index`) |\n",
        "#| **Use case**    | When data needs to be changed                    | When data should remain constant |\n",
        "\n",
        "\n"
      ],
      "metadata": {
        "id": "yZ52SFwNA7Tj"
      },
      "execution_count": null,
      "outputs": []
    },
    {
      "cell_type": "code",
      "source": [
        "#44\n",
        "# Creating a tuple with different data types\n",
        "my_tuple = (1, \"Python\", 3.14, True, [10, 20, 30])\n",
        "\n",
        "# Printing the tuple\n",
        "print(\"Tuple:\", my_tuple)\n",
        "\n",
        "# Accessing elements\n",
        "print(\"First element:\", my_tuple[0])   # Integer\n",
        "print(\"Second element:\", my_tuple[1])  # String\n",
        "print(\"Third element:\", my_tuple[2])   # Float\n",
        "print(\"Fourth element:\", my_tuple[3])  # Boolean\n",
        "print(\"Fifth element:\", my_tuple[4])   # List\n"
      ],
      "metadata": {
        "colab": {
          "base_uri": "https://localhost:8080/"
        },
        "id": "iW7NdLkiBlBl",
        "outputId": "a5cd3b01-ec65-4cb4-c743-b002b4a969a8"
      },
      "execution_count": null,
      "outputs": [
        {
          "output_type": "stream",
          "name": "stdout",
          "text": [
            "Tuple: (1, 'Python', 3.14, True, [10, 20, 30])\n",
            "First element: 1\n",
            "Second element: Python\n",
            "Third element: 3.14\n",
            "Fourth element: True\n",
            "Fifth element: [10, 20, 30]\n"
          ]
        }
      ]
    },
    {
      "cell_type": "code",
      "source": [
        "#45\n",
        "# Original list of tuples\n",
        "list_of_tuples = [(1, 'a'), (2, 'b'), (3, 'c')]\n",
        "\n",
        "# Unzipping using zip(*list_of_tuples)\n",
        "numbers, letters = zip(*list_of_tuples)\n",
        "\n",
        "# Converting tuples to lists\n",
        "numbers = list(numbers)\n",
        "letters = list(letters)\n",
        "\n",
        "print(\"Original list of tuples:\", list_of_tuples)\n",
        "print(\"Numbers list:\", numbers)\n",
        "print(\"Letters list:\", letters)\n"
      ],
      "metadata": {
        "colab": {
          "base_uri": "https://localhost:8080/"
        },
        "id": "t2fnoqWVDAur",
        "outputId": "271e92bf-50ea-4be7-ed2c-8380a4b8423b"
      },
      "execution_count": null,
      "outputs": [
        {
          "output_type": "stream",
          "name": "stdout",
          "text": [
            "Original list of tuples: [(1, 'a'), (2, 'b'), (3, 'c')]\n",
            "Numbers list: [1, 2, 3]\n",
            "Letters list: ['a', 'b', 'c']\n"
          ]
        }
      ]
    },
    {
      "cell_type": "code",
      "source": [
        "#46\n",
        "# List of tuples (key, value)\n",
        "list_of_tuples = [(\"a\", 1), (\"b\", 2), (\"c\", 3)]\n",
        "\n",
        "# Convert to dictionary\n",
        "my_dict = dict(list_of_tuples)\n",
        "\n",
        "print(\"List of tuples:\", list_of_tuples)\n",
        "print(\"Converted dictionary:\", my_dict)\n"
      ],
      "metadata": {
        "colab": {
          "base_uri": "https://localhost:8080/"
        },
        "id": "SGpdupyjDUao",
        "outputId": "bd25ba5d-c825-452e-8e6f-9aeb93dd4742"
      },
      "execution_count": null,
      "outputs": [
        {
          "output_type": "stream",
          "name": "stdout",
          "text": [
            "List of tuples: [('a', 1), ('b', 2), ('c', 3)]\n",
            "Converted dictionary: {'a': 1, 'b': 2, 'c': 3}\n"
          ]
        }
      ]
    },
    {
      "cell_type": "code",
      "source": [
        "#47\n",
        "# Directly using tuples\n",
        "my_dict = dict(((\"x\", 10), (\"y\", 20), (\"z\", 30)))\n",
        "\n",
        "print(\"Dictionary:\", my_dict)\n"
      ],
      "metadata": {
        "colab": {
          "base_uri": "https://localhost:8080/"
        },
        "id": "QqtCUrEaDl3u",
        "outputId": "4608bfec-8dd8-417c-c38a-ef694d789047"
      },
      "execution_count": null,
      "outputs": [
        {
          "output_type": "stream",
          "name": "stdout",
          "text": [
            "Dictionary: {'x': 10, 'y': 20, 'z': 30}\n"
          ]
        }
      ]
    },
    {
      "cell_type": "code",
      "source": [
        "#48\n",
        "# Sample dictionary\n",
        "my_dict = {'apple': 3, 'banana': 1, 'orange': 5, 'mango': 2}\n",
        "\n",
        "# Sorting dictionary by value (ascending)\n",
        "asc_sorted = dict(sorted(my_dict.items(), key=lambda item: item[1]))\n",
        "\n",
        "# Sorting dictionary by value (descending)\n",
        "desc_sorted = dict(sorted(my_dict.items(), key=lambda item: item[1], reverse=True))\n",
        "\n",
        "print(\"Original dictionary:\", my_dict)\n",
        "print(\"Sorted by value (ascending):\", asc_sorted)\n",
        "print(\"Sorted by value (descending):\", desc_sorted)\n"
      ],
      "metadata": {
        "colab": {
          "base_uri": "https://localhost:8080/"
        },
        "id": "hkpDbcirD1nm",
        "outputId": "7b57460d-8da7-4eee-cc45-9b81126b4d22"
      },
      "execution_count": null,
      "outputs": [
        {
          "output_type": "stream",
          "name": "stdout",
          "text": [
            "Original dictionary: {'apple': 3, 'banana': 1, 'orange': 5, 'mango': 2}\n",
            "Sorted by value (ascending): {'banana': 1, 'mango': 2, 'apple': 3, 'orange': 5}\n",
            "Sorted by value (descending): {'orange': 5, 'apple': 3, 'mango': 2, 'banana': 1}\n"
          ]
        }
      ]
    },
    {
      "cell_type": "code",
      "source": [
        "#49\n",
        "# Sample dictionaries\n",
        "dict1 = {'a': 1, 'b': 2}\n",
        "dict2 = {'c': 3, 'd': 4}\n",
        "dict3 = {'e': 5, 'f': 6}\n",
        "\n",
        "new_dict2 = dict1.copy()\n",
        "new_dict2.update(dict2)\n",
        "new_dict2.update(dict3)\n",
        "print(\"Concatenated dictionary (update):\", new_dict2)\n"
      ],
      "metadata": {
        "colab": {
          "base_uri": "https://localhost:8080/"
        },
        "id": "3-muFqI7EpVl",
        "outputId": "ff5b1fb8-d164-4180-99c3-98a01e345670"
      },
      "execution_count": null,
      "outputs": [
        {
          "output_type": "stream",
          "name": "stdout",
          "text": [
            "Concatenated dictionary (update): {'a': 1, 'b': 2, 'c': 3, 'd': 4, 'e': 5, 'f': 6}\n"
          ]
        }
      ]
    },
    {
      "cell_type": "code",
      "source": [
        "#50\n",
        "# Sample dictionary\n",
        "my_dict = {'name': 'Alice', 'age': 25, 'city': 'Paris'}\n",
        "\n",
        "# Function to check if key exists\n",
        "def key_exists(dictionary, key):\n",
        "    if key in dictionary:\n",
        "        print(f\"Key '{key}' exists in the dictionary.\")\n",
        "    else:\n",
        "        print(f\"Key '{key}' does not exist in the dictionary.\")\n",
        "\n",
        "# Example usage\n",
        "key_exists(my_dict, 'age')\n",
        "\n"
      ],
      "metadata": {
        "colab": {
          "base_uri": "https://localhost:8080/"
        },
        "id": "fzBKbqoREza9",
        "outputId": "d47b15c9-700d-4ac2-c58a-111a73dbbf76"
      },
      "execution_count": null,
      "outputs": [
        {
          "output_type": "stream",
          "name": "stdout",
          "text": [
            "Key 'age' exists in the dictionary.\n"
          ]
        }
      ]
    },
    {
      "cell_type": "code",
      "source": [
        "#51\n",
        "my_dict = {'name': 'shruti', 'age': 22, 'city': 'Paris'}\n",
        "\n",
        "for key in my_dict:\n",
        "    print(key, \"->\", my_dict[key])\n",
        "\n"
      ],
      "metadata": {
        "colab": {
          "base_uri": "https://localhost:8080/"
        },
        "id": "QW1oHJQ5FFyB",
        "outputId": "61b5e391-6cdc-439d-bb30-f62159073c46"
      },
      "execution_count": null,
      "outputs": [
        {
          "output_type": "stream",
          "name": "stdout",
          "text": [
            "name -> shruti\n",
            "age -> 22\n",
            "city -> Paris\n"
          ]
        }
      ]
    },
    {
      "cell_type": "code",
      "source": [
        "#52\n",
        "my_dict = {'name': 'shruti', 'age': 22, 'city': 'Paris'}\n",
        "\n",
        "if 'age' in my_dict:\n",
        "    print(\"Key 'age' exists\")\n",
        "else:\n",
        "    print(\"Key 'age' does not exist\")"
      ],
      "metadata": {
        "colab": {
          "base_uri": "https://localhost:8080/"
        },
        "id": "aWYKp2h_FkH9",
        "outputId": "c5dc58ec-f902-44ad-8fe6-ea848cf1cf7c"
      },
      "execution_count": null,
      "outputs": [
        {
          "output_type": "stream",
          "name": "stdout",
          "text": [
            "Key 'age' exists\n"
          ]
        }
      ]
    },
    {
      "cell_type": "code",
      "source": [
        "#53\n",
        "# Create dictionary with keys 1 to 15 and values as squares of keys\n",
        "my_dict = {x: x**2 for x in range(1, 16)}\n",
        "\n",
        "# Print the dictionary\n",
        "print(\"Dictionary with keys 1 to 15 and their squares:\")\n",
        "print(my_dict)\n"
      ],
      "metadata": {
        "colab": {
          "base_uri": "https://localhost:8080/"
        },
        "id": "5ZU_GQlIGGDm",
        "outputId": "b6592b89-03c2-4504-82b1-3666f348b4b1"
      },
      "execution_count": null,
      "outputs": [
        {
          "output_type": "stream",
          "name": "stdout",
          "text": [
            "Dictionary with keys 1 to 15 and their squares:\n",
            "{1: 1, 2: 4, 3: 9, 4: 16, 5: 25, 6: 36, 7: 49, 8: 64, 9: 81, 10: 100, 11: 121, 12: 144, 13: 169, 14: 196, 15: 225}\n"
          ]
        }
      ]
    },
    {
      "cell_type": "code",
      "source": [
        "#54\n",
        "# Sample dictionary\n",
        "my_dict = {'name': 'Alice', 'age': 25, 'city': 'Paris', 'country': 'France'}\n",
        "\n",
        "# Function to check multiple keys\n",
        "def check_keys(dictionary, keys):\n",
        "    if all(key in dictionary for key in keys):\n",
        "        print(\"All keys exist:\", keys)\n",
        "    else:\n",
        "        print(\"Not all keys exist:\", keys)\n",
        "\n",
        "# Example usage\n",
        "check_keys(my_dict, ['name', 'age'])           # All keys exist\n",
        "check_keys(my_dict, ['name', 'gender'])        # Not all keys exist\n"
      ],
      "metadata": {
        "colab": {
          "base_uri": "https://localhost:8080/"
        },
        "id": "zhen7mLNGWHQ",
        "outputId": "91ec8a09-9cda-4636-9edc-0c3a6ad84aba"
      },
      "execution_count": null,
      "outputs": [
        {
          "output_type": "stream",
          "name": "stdout",
          "text": [
            "All keys exist: ['name', 'age']\n",
            "Not all keys exist: ['name', 'gender']\n"
          ]
        }
      ]
    },
    {
      "cell_type": "code",
      "source": [
        "#55\n",
        "# Sample dictionaries\n",
        "dict1 = {'a': 1, 'b': 2}\n",
        "dict2 = {'c': 3, 'd': 4}\n",
        "\n",
        "# Merge dict2 into dict1\n",
        "dict1.update(dict2)\n",
        "\n",
        "print(\"Merged dictionary:\", dict1)\n"
      ],
      "metadata": {
        "colab": {
          "base_uri": "https://localhost:8080/"
        },
        "id": "rKumeClwGjWB",
        "outputId": "8c6a1030-1663-4a78-b73c-ff28e976dca6"
      },
      "execution_count": null,
      "outputs": [
        {
          "output_type": "stream",
          "name": "stdout",
          "text": [
            "Merged dictionary: {'a': 1, 'b': 2, 'c': 3, 'd': 4}\n"
          ]
        }
      ]
    },
    {
      "cell_type": "code",
      "source": [
        "#56\n",
        "from collections import Counter\n",
        "\n",
        "# Sample lists\n",
        "keys = ['a', 'b', 'c', 'd']\n",
        "values = [400, 400, 300, 400]\n",
        "\n",
        "# Map lists into a dictionary\n",
        "my_dict = dict(zip(keys, values))\n",
        "\n",
        "# Using Counter (optional, as per sample output)\n",
        "counter_dict = Counter(my_dict)\n",
        "\n",
        "print(\"Mapped dictionary:\", my_dict)\n",
        "print(\"Counter:\", counter_dict)\n"
      ],
      "metadata": {
        "colab": {
          "base_uri": "https://localhost:8080/"
        },
        "id": "VH66TF-4G3jz",
        "outputId": "31a4c026-7d33-437b-a2c0-ca32fac799ec"
      },
      "execution_count": null,
      "outputs": [
        {
          "output_type": "stream",
          "name": "stdout",
          "text": [
            "Mapped dictionary: {'a': 400, 'b': 400, 'c': 300, 'd': 400}\n",
            "Counter: Counter({'a': 400, 'b': 400, 'd': 400, 'c': 300})\n"
          ]
        }
      ]
    },
    {
      "cell_type": "code",
      "source": [
        "#57\n",
        "# Sample dictionary\n",
        "my_dict = {'a': 400, 'b': 500, 'c': 300, 'd': 450, 'e': 600}\n",
        "\n",
        "# Sort dictionary by values in descending order and get top 3\n",
        "top3 = dict(sorted(my_dict.items(), key=lambda item: item[1], reverse=True)[:3])\n",
        "\n",
        "print(\"Original dictionary:\", my_dict)\n",
        "print(\"Top 3 highest values:\", top3)\n",
        "\n"
      ],
      "metadata": {
        "colab": {
          "base_uri": "https://localhost:8080/"
        },
        "id": "UkB7je6NHb8q",
        "outputId": "086fa7cd-459f-410f-ec1f-2ba857801a68"
      },
      "execution_count": null,
      "outputs": [
        {
          "output_type": "stream",
          "name": "stdout",
          "text": [
            "Original dictionary: {'a': 400, 'b': 500, 'c': 300, 'd': 450, 'e': 600}\n",
            "Top 3 highest values: {'e': 600, 'b': 500, 'd': 450}\n"
          ]
        }
      ]
    },
    {
      "cell_type": "code",
      "source": [
        "#58\n",
        "from collections import Counter\n",
        "\n",
        "# Sample data\n",
        "data = [\n",
        "    {'item': 'item1', 'amount': 400},\n",
        "    {'item': 'item2', 'amount': 300},\n",
        "    {'item': 'item1', 'amount': 750}\n",
        "]\n",
        "\n",
        "# Combine amounts using Counter\n",
        "combined = Counter()\n",
        "for entry in data:\n",
        "    combined[entry['item']] += entry['amount']\n",
        "\n",
        "print(\"Combined amounts:\", combined)\n"
      ],
      "metadata": {
        "colab": {
          "base_uri": "https://localhost:8080/"
        },
        "id": "cEIwfGoKHwJI",
        "outputId": "a3cb666f-5eac-4157-ef60-4a81a7d0c83a"
      },
      "execution_count": null,
      "outputs": [
        {
          "output_type": "stream",
          "name": "stdout",
          "text": [
            "Combined amounts: Counter({'item1': 1150, 'item2': 300})\n"
          ]
        }
      ]
    },
    {
      "cell_type": "code",
      "source": [
        "#59\n",
        "from collections import Counter\n",
        "\n",
        "# Input string\n",
        "my_string = \"hello world\"\n",
        "\n",
        "# Count characters\n",
        "char_count = Counter(my_string)\n",
        "\n",
        "print(\"Character count:\", char_count)\n"
      ],
      "metadata": {
        "colab": {
          "base_uri": "https://localhost:8080/"
        },
        "id": "xQqXbPAxIBtp",
        "outputId": "8f870bf5-b8d4-42d4-e766-1139327e0239"
      },
      "execution_count": null,
      "outputs": [
        {
          "output_type": "stream",
          "name": "stdout",
          "text": [
            "Character count: Counter({'l': 3, 'o': 2, 'h': 1, 'e': 1, ' ': 1, 'w': 1, 'r': 1, 'd': 1})\n"
          ]
        }
      ]
    },
    {
      "cell_type": "code",
      "source": [
        "#60\n",
        "# Sample string\n",
        "sample_str = 'w3resource'\n",
        "\n",
        "# Count characters using a loop\n",
        "char_count = {}\n",
        "for char in sample_str:\n",
        "    if char in char_count:\n",
        "        char_count[char] += 1\n",
        "    else:\n",
        "        char_count[char] = 1\n",
        "\n",
        "print(\"Character count:\", char_count)\n"
      ],
      "metadata": {
        "colab": {
          "base_uri": "https://localhost:8080/"
        },
        "id": "Cd6PlS0-IKUn",
        "outputId": "45b811af-a253-4a8c-e1a3-ff77e603443a"
      },
      "execution_count": null,
      "outputs": [
        {
          "output_type": "stream",
          "name": "stdout",
          "text": [
            "Character count: {'w': 1, '3': 1, 'r': 2, 'e': 2, 's': 1, 'o': 1, 'u': 1, 'c': 1}\n"
          ]
        }
      ]
    },
    {
      "cell_type": "code",
      "source": [
        "#61\n",
        "def factorial_recursive(n):\n",
        "    if n < 0:\n",
        "        return \"Factorial is not defined for negative numbers.\"\n",
        "    if n == 0 or n == 1:\n",
        "        return 1\n",
        "    else:\n",
        "        return n * factorial_recursive(n - 1)\n",
        "\n",
        "# Example usage:\n",
        "num = 5\n",
        "print(f\"Factorial of {num} is {factorial_recursive(num)}\")\n"
      ],
      "metadata": {
        "id": "69QvnLbpIZLq",
        "colab": {
          "base_uri": "https://localhost:8080/"
        },
        "outputId": "92ea7d5d-4ad3-4788-d46c-4c3882f5ff7d"
      },
      "execution_count": 1,
      "outputs": [
        {
          "output_type": "stream",
          "name": "stdout",
          "text": [
            "Factorial of 5 is 120\n"
          ]
        }
      ]
    },
    {
      "cell_type": "code",
      "source": [
        "#62\n",
        "def is_in_range(number, start, end):\n",
        "\n",
        "    return start <= number <= end\n",
        "\n",
        "# Example usage:\n",
        "num = 7\n",
        "print(is_in_range(num, 1, 10))  # True\n",
        "print(is_in_range(num, 10, 20)) # False\n"
      ],
      "metadata": {
        "colab": {
          "base_uri": "https://localhost:8080/"
        },
        "id": "cygR4kocpHkX",
        "outputId": "388b43df-fd65-4101-84ff-18624f286c65"
      },
      "execution_count": 2,
      "outputs": [
        {
          "output_type": "stream",
          "name": "stdout",
          "text": [
            "True\n",
            "False\n"
          ]
        }
      ]
    },
    {
      "cell_type": "code",
      "source": [
        "#63\n",
        "def is_perfect(number):\n",
        "\n",
        "    if number <= 0:\n",
        "        return False\n",
        "\n",
        "    sum_of_divisors = 0\n",
        "    for i in range(1, number):\n",
        "        if number % i == 0:\n",
        "            sum_of_divisors += i\n",
        "\n",
        "    return sum_of_divisors == number\n",
        "\n",
        "# Example usage:\n",
        "num = 28\n",
        "if is_perfect(num):\n",
        "    print(f\"{num} is a perfect number.\")\n",
        "else:\n",
        "    print(f\"{num} is not a perfect number.\")\n"
      ],
      "metadata": {
        "colab": {
          "base_uri": "https://localhost:8080/"
        },
        "id": "dbYSQ17aphQP",
        "outputId": "044b1b16-5cbf-4c28-c834-e0fd3be7d062"
      },
      "execution_count": 3,
      "outputs": [
        {
          "output_type": "stream",
          "name": "stdout",
          "text": [
            "28 is a perfect number.\n"
          ]
        }
      ]
    },
    {
      "cell_type": "code",
      "source": [
        "#64\n",
        "def is_palindrome(s):\n",
        "\n",
        "    # Remove spaces and convert to lowercase for uniformity\n",
        "    s = s.replace(\" \", \"\").lower()\n",
        "\n",
        "    # Check if string is equal to its reverse\n",
        "    return s == s[::-1]\n",
        "\n",
        "# Example usage:\n",
        "string1 = \"shruti\"\n",
        "string2 = \"Hello\"\n",
        "\n",
        "print(f\"'{string1}' is a palindrome? {is_palindrome(string1)}\")  # True\n",
        "print(f\"'{string2}' is a palindrome? {is_palindrome(string2)}\")  # False\n"
      ],
      "metadata": {
        "colab": {
          "base_uri": "https://localhost:8080/"
        },
        "id": "2E2J-dsTp2Oh",
        "outputId": "25bd3a62-9345-468d-b1f0-bf856f6ac303"
      },
      "execution_count": 5,
      "outputs": [
        {
          "output_type": "stream",
          "name": "stdout",
          "text": [
            "'shruti' is a palindrome? False\n",
            "'Hello' is a palindrome? False\n"
          ]
        }
      ]
    },
    {
      "cell_type": "code",
      "source": [
        "#65\n",
        "# Python has four basic types of functions:\n",
        "\n",
        "#Built-in functions – Provided by Python (print(), len()).\n",
        "\n",
        "#User-defined functions – Created by the programmer using def.\n",
        "\n",
        "#Lambda (anonymous) functions – One-line functions using lambda.\n",
        "\n",
        "#Recursive functions – Functions that call themselves."
      ],
      "metadata": {
        "id": "9MbineQAqIDj"
      },
      "execution_count": 6,
      "outputs": []
    },
    {
      "cell_type": "code",
      "source": [
        "#66\n",
        "import random\n",
        "\n",
        "# List example\n",
        "my_list = [10, 20, 30, 40, 50]\n",
        "random_item = random.choice(my_list)\n",
        "print(random_item)\n",
        "\n",
        "# Tuple example\n",
        "my_tuple = ('apple', 'banana', 'cherry')\n",
        "random_item = random.choice(my_tuple)\n",
        "print(random_item)\n"
      ],
      "metadata": {
        "colab": {
          "base_uri": "https://localhost:8080/"
        },
        "id": "RSv91Rdyqr35",
        "outputId": "e5cf5e6f-6f31-4f4d-ebbc-38a193a248ed"
      },
      "execution_count": 7,
      "outputs": [
        {
          "output_type": "stream",
          "name": "stdout",
          "text": [
            "40\n",
            "banana\n"
          ]
        }
      ]
    },
    {
      "cell_type": "code",
      "source": [
        "#67\n",
        "import random\n",
        "\n",
        "# Random integer between 1 and 10\n",
        "random_item = random.randint(1, 10)\n",
        "print(random_item)\n"
      ],
      "metadata": {
        "colab": {
          "base_uri": "https://localhost:8080/"
        },
        "id": "OCge9AY2q2vB",
        "outputId": "c5cd0b82-fb1b-442d-dd27-7dc3829a7255"
      },
      "execution_count": 8,
      "outputs": [
        {
          "output_type": "stream",
          "name": "stdout",
          "text": [
            "3\n"
          ]
        }
      ]
    },
    {
      "cell_type": "code",
      "source": [
        "#68\n",
        "import random\n",
        "\n",
        "# Random integer between 1 and 10 (inclusive)\n",
        "rand_int = random.randint(1, 10)\n",
        "print(rand_int)\n"
      ],
      "metadata": {
        "colab": {
          "base_uri": "https://localhost:8080/"
        },
        "id": "I0RJalHIrESH",
        "outputId": "ad424e06-097a-47f7-8d6d-c4f4b710428b"
      },
      "execution_count": 9,
      "outputs": [
        {
          "output_type": "stream",
          "name": "stdout",
          "text": [
            "6\n"
          ]
        }
      ]
    },
    {
      "cell_type": "code",
      "source": [
        "#69\n",
        "import random\n",
        "\n",
        "# Set the seed\n",
        "random.seed(42)\n",
        "\n",
        "# Generate random numbers\n",
        "print(random.randint(1, 100))\n",
        "print(random.randint(1, 100))\n",
        "print(random.random())\n"
      ],
      "metadata": {
        "colab": {
          "base_uri": "https://localhost:8080/"
        },
        "id": "gmO9fPpPrTSC",
        "outputId": "c4e8fd2c-406b-45ba-9d7e-d5aa66b9d0ce"
      },
      "execution_count": 10,
      "outputs": [
        {
          "output_type": "stream",
          "name": "stdout",
          "text": [
            "82\n",
            "15\n",
            "0.025010755222666936\n"
          ]
        }
      ]
    },
    {
      "cell_type": "code",
      "source": [
        "#70\n",
        "import random\n",
        "\n",
        "my_list = [1, 2, 3, 4, 5]\n",
        "\n",
        "random.shuffle(my_list)\n",
        "\n",
        "print(my_list)\n"
      ],
      "metadata": {
        "colab": {
          "base_uri": "https://localhost:8080/"
        },
        "id": "sBSwB19wri5j",
        "outputId": "c5fc5ee2-0e0c-401d-f801-3a94ef49166d"
      },
      "execution_count": 11,
      "outputs": [
        {
          "output_type": "stream",
          "name": "stdout",
          "text": [
            "[4, 5, 1, 2, 3]\n"
          ]
        }
      ]
    },
    {
      "cell_type": "code",
      "source": [
        "#71\n",
        "#1. open() function\n",
        "\n",
        "#The open() function is used to create or open a file. Its syntax is:\n",
        "\n",
        "##file_object = open(filename, mode)\n",
        "\n",
        "#2. File modes (keywords)\n",
        "\n",
        "#Some common modes for creating and writing files are:\n",
        "\n",
        "#Mode\tDescription\n",
        "#'r'\tRead (default). File must exist.\n",
        "#'w'\tWrite. Creates a new file or overwrites if it exists.\n",
        "#'x'\tCreate a new file. Fails if file exists.\n",
        "#'a'\tAppend. Adds content to the end of file if it exists.\n",
        "#'b'\tBinary mode (e.g., 'rb', 'wb')\n",
        "#'+'\tUpdate (read and write)\n",
        "#3. Example: Create and write to a file\n",
        "# Create or overwrite a file\n",
        "with open(\"example.txt\", \"w\") as f:\n",
        "    f.write(\"Hello, Python!\\n\")\n",
        "    f.write(\"Writing to a file is easy.\")"
      ],
      "metadata": {
        "id": "LBztQUXrrvuU"
      },
      "execution_count": 13,
      "outputs": []
    },
    {
      "cell_type": "code",
      "source": [
        "#72\n",
        "# Open the file in read mode\n",
        "with open(\"example.txt\", \"r\") as file:\n",
        "    content = file.read()  # Read the entire file\n",
        "\n",
        "print(\"File content:\")\n",
        "print(content)\n"
      ],
      "metadata": {
        "colab": {
          "base_uri": "https://localhost:8080/"
        },
        "id": "257c4AgNsl69",
        "outputId": "61fdd4d7-4ba8-43cc-e1b2-635c27fb40ee"
      },
      "execution_count": 14,
      "outputs": [
        {
          "output_type": "stream",
          "name": "stdout",
          "text": [
            "File content:\n",
            "Hello, Python!\n",
            "Writing to a file is easy.\n"
          ]
        }
      ]
    },
    {
      "cell_type": "code",
      "source": [
        "#73\n",
        "# Append text to the file\n",
        "with open(\"example.txt\", \"a\") as file:\n",
        "    file.write(\"\\nThis text is appended to the file.\")\n",
        "\n",
        "# Read and display the updated file content\n",
        "with open(\"example.txt\", \"r\") as file:\n",
        "    content = file.read()\n",
        "\n",
        "print(\"Updated file content:\")\n",
        "print(content)\n"
      ],
      "metadata": {
        "colab": {
          "base_uri": "https://localhost:8080/"
        },
        "id": "GVh0HN3zs6DT",
        "outputId": "d0731dc3-1e13-4456-d7b5-842450c30299"
      },
      "execution_count": 15,
      "outputs": [
        {
          "output_type": "stream",
          "name": "stdout",
          "text": [
            "Updated file content:\n",
            "Hello, Python!\n",
            "Writing to a file is easy.\n",
            "This text is appended to the file.\n"
          ]
        }
      ]
    },
    {
      "cell_type": "code",
      "source": [
        "#74\n",
        "# Number of lines to read\n",
        "n = 5\n",
        "\n",
        "with open(\"example.txt\", \"r\") as file:\n",
        "    for i in range(n):\n",
        "        line = file.readline()\n",
        "        if not line:\n",
        "            break\n",
        "        print(line, end='')\n"
      ],
      "metadata": {
        "colab": {
          "base_uri": "https://localhost:8080/"
        },
        "id": "YLv9_o6StEFn",
        "outputId": "3fe1bcee-274b-4105-a6f8-865a6a8fd8f1"
      },
      "execution_count": 16,
      "outputs": [
        {
          "output_type": "stream",
          "name": "stdout",
          "text": [
            "Hello, Python!\n",
            "Writing to a file is easy.\n",
            "This text is appended to the file."
          ]
        }
      ]
    },
    {
      "cell_type": "code",
      "source": [
        "#75\n",
        "# Number of lines to read from the end\n",
        "n = 5\n",
        "\n",
        "with open(\"example.txt\", \"r\") as file:\n",
        "    lines = file.readlines()\n",
        "\n",
        "# Get the last n lines\n",
        "last_lines = lines[-n:]\n",
        "\n",
        "print(\"Last\", n, \"lines of the file:\")\n",
        "for line in last_lines:\n",
        "    print(line, end='')\n"
      ],
      "metadata": {
        "colab": {
          "base_uri": "https://localhost:8080/"
        },
        "id": "IaTHRSeVtOrf",
        "outputId": "daafdba6-ee13-4687-b5bc-ed5c9ac8fa1c"
      },
      "execution_count": 17,
      "outputs": [
        {
          "output_type": "stream",
          "name": "stdout",
          "text": [
            "Last 5 lines of the file:\n",
            "Hello, Python!\n",
            "Writing to a file is easy.\n",
            "This text is appended to the file."
          ]
        }
      ]
    },
    {
      "cell_type": "code",
      "source": [
        "#76\n",
        "# Open the file in read mode\n",
        "with open(\"example.txt\", \"r\") as file:\n",
        "    lines_list = file.readlines()  # Reads all lines into a list\n",
        "\n",
        "# Remove trailing newline characters from each line\n",
        "lines_list = [line.strip() for line in lines_list]\n",
        "\n",
        "print(\"Lines in the file as a list:\")\n",
        "print(lines_list)\n"
      ],
      "metadata": {
        "colab": {
          "base_uri": "https://localhost:8080/"
        },
        "id": "YBeahW-xta9J",
        "outputId": "a64e1653-de45-4e4f-d4fa-4f234c4bd91c"
      },
      "execution_count": 18,
      "outputs": [
        {
          "output_type": "stream",
          "name": "stdout",
          "text": [
            "Lines in the file as a list:\n",
            "['Hello, Python!', 'Writing to a file is easy.', 'This text is appended to the file.']\n"
          ]
        }
      ]
    },
    {
      "cell_type": "code",
      "source": [
        "#77\n",
        "# Open the file in read mode\n",
        "with open(\"example.txt\", \"r\") as file:\n",
        "    content = \"\"\n",
        "    for line in file:\n",
        "        content += line\n",
        "\n",
        "print(\"File content stored in a variable:\")\n",
        "print(content)\n"
      ],
      "metadata": {
        "colab": {
          "base_uri": "https://localhost:8080/"
        },
        "id": "rIVr-qKztjS6",
        "outputId": "1eda3a5f-51dd-44f8-8f88-039c4ffce2ce"
      },
      "execution_count": 19,
      "outputs": [
        {
          "output_type": "stream",
          "name": "stdout",
          "text": [
            "File content stored in a variable:\n",
            "Hello, Python!\n",
            "Writing to a file is easy.\n",
            "This text is appended to the file.\n"
          ]
        }
      ]
    },
    {
      "cell_type": "code",
      "source": [
        "#78\n",
        "# Example text (can also read from a file)\n",
        "text = \"Python programming is fun and powerful for data analysis\"\n",
        "\n",
        "# Split the text into words\n",
        "words = text.split()\n",
        "\n",
        "# Find the length of the longest word\n",
        "max_length = max(len(word) for word in words)\n",
        "\n",
        "# Get all words with the maximum length\n",
        "longest_words = [word for word in words if len(word) == max_length]\n",
        "\n",
        "print(\"Longest word(s):\", longest_words)\n",
        "11"
      ],
      "metadata": {
        "colab": {
          "base_uri": "https://localhost:8080/"
        },
        "id": "8mgaU9_4tyo9",
        "outputId": "2f687465-cf7d-487e-f170-cfe6940687cb"
      },
      "execution_count": 20,
      "outputs": [
        {
          "output_type": "stream",
          "name": "stdout",
          "text": [
            "Longest word(s): ['programming']\n"
          ]
        },
        {
          "output_type": "execute_result",
          "data": {
            "text/plain": [
              "11"
            ]
          },
          "metadata": {},
          "execution_count": 20
        }
      ]
    },
    {
      "cell_type": "code",
      "source": [
        "#79\n",
        "# Open the file in read mode\n",
        "with open(\"example.txt\", \"r\") as file:\n",
        "    line_count = sum(1 for line in file)\n",
        "\n",
        "print(f\"Number of lines in the file: {line_count}\")\n",
        "\n"
      ],
      "metadata": {
        "colab": {
          "base_uri": "https://localhost:8080/"
        },
        "id": "17UjgUVwt9GZ",
        "outputId": "04bea2b4-6a01-47e3-f4e7-a972be0932c7"
      },
      "execution_count": 21,
      "outputs": [
        {
          "output_type": "stream",
          "name": "stdout",
          "text": [
            "Number of lines in the file: 3\n"
          ]
        }
      ]
    },
    {
      "cell_type": "code",
      "source": [
        "#80\n",
        "from collections import Counter\n",
        "\n",
        "# Open and read the file\n",
        "with open(\"example.txt\", \"r\") as file:\n",
        "    text = file.read().lower()\n",
        "\n",
        "words = text.split()\n",
        "\n",
        "word_counts = Counter(words)\n",
        "\n",
        "# Display word frequencies\n",
        "print(\"Word frequencies in the file:\")\n",
        "for word, count in word_counts.items():\n",
        "    print(f\"{word}: {count}\")\n"
      ],
      "metadata": {
        "colab": {
          "base_uri": "https://localhost:8080/"
        },
        "id": "z-oLJj_nuMWX",
        "outputId": "5b55a99c-30e7-4583-f045-28d4c7b91be8"
      },
      "execution_count": 22,
      "outputs": [
        {
          "output_type": "stream",
          "name": "stdout",
          "text": [
            "Word frequencies in the file:\n",
            "hello,: 1\n",
            "python!: 1\n",
            "writing: 1\n",
            "to: 2\n",
            "a: 1\n",
            "file: 1\n",
            "is: 2\n",
            "easy.: 1\n",
            "this: 1\n",
            "text: 1\n",
            "appended: 1\n",
            "the: 1\n",
            "file.: 1\n"
          ]
        }
      ]
    },
    {
      "cell_type": "code",
      "source": [
        "#81\n",
        "# Example list\n",
        "my_list = [\"Apple\", \"Banana\", \"Cherry\", \"Date\"]\n",
        "\n",
        "# Open the file in write mode\n",
        "with open(\"output.txt\", \"w\") as file:\n",
        "    for item in my_list:\n",
        "        file.write(item + \"\\n\")\n",
        "\n",
        "print(\"List has been written to the file.\")\n"
      ],
      "metadata": {
        "colab": {
          "base_uri": "https://localhost:8080/"
        },
        "id": "jGfFC82bubnC",
        "outputId": "c9f7e298-4bd2-498d-f611-ea1817732690"
      },
      "execution_count": 23,
      "outputs": [
        {
          "output_type": "stream",
          "name": "stdout",
          "text": [
            "List has been written to the file.\n"
          ]
        }
      ]
    },
    {
      "cell_type": "code",
      "source": [
        "#82\n",
        "# Open the source file and destination file\n",
        "with open(\"example.txt\", \"r\") as src_file:\n",
        "    content = src_file.read()  # Read entire content\n",
        "\n",
        "with open(\"destination.txt\", \"w\") as dest_file:\n",
        "    dest_file.write(content)   # Write content to destination\n",
        "\n",
        "print(\"File has been copied successfully.\")\n"
      ],
      "metadata": {
        "colab": {
          "base_uri": "https://localhost:8080/"
        },
        "id": "j1i3bwYVvVmh",
        "outputId": "2eec5649-c315-41b8-e339-18421e450606"
      },
      "execution_count": 28,
      "outputs": [
        {
          "output_type": "stream",
          "name": "stdout",
          "text": [
            "File has been copied successfully.\n"
          ]
        }
      ]
    },
    {
      "cell_type": "code",
      "source": [
        "#83\n",
        "#1. Error in Python\n",
        "\n",
        "#An error in Python is an unexpected problem that occurs during program execution and stops the program from running.\n",
        "#Errors can be of different types:\n",
        "\n",
        "#Syntax Errors: Mistakes in the Python syntax.\n",
        "\n",
        "###print(\"Hello\"  # Missing closing parenthesis → SyntaxError\n",
        "\n",
        "#Runtime Errors (Exceptions): Occur while the program is running.\n",
        "#Examples:\n",
        "\n",
        "#Dividing by zero → ZeroDivisionError\n",
        "\n",
        "#Accessing a missing file → FileNotFoundError\n",
        "\n",
        "#Index out of range → IndexError\n",
        "\n",
        "## Exception Handling\n",
        "\n",
        "#Python uses try, except, else, finally blocks for exception handling.\n",
        "\n",
        "try:\n",
        "    # Code that may cause an exception\n",
        "    num = int(input(\"Enter a number: \"))\n",
        "    result = 10 / num\n",
        "except ZeroDivisionError:\n",
        "    print(\"Error: Cannot divide by zero!\")\n",
        "except ValueError:\n",
        "    print(\"Error: Invalid input, please enter a number.\")\n",
        "else:\n",
        "    print(\"Result is:\", result)\n",
        "finally:\n",
        "    print(\"Execution completed.\")\n",
        "\n"
      ],
      "metadata": {
        "colab": {
          "base_uri": "https://localhost:8080/"
        },
        "id": "DWOpPzaivun7",
        "outputId": "c85564d0-adfd-4e97-81e5-d9a5196f8c49"
      },
      "execution_count": 29,
      "outputs": [
        {
          "output_type": "stream",
          "name": "stdout",
          "text": [
            "Enter a number: 5\n",
            "Result is: 2.0\n",
            "Execution completed.\n"
          ]
        }
      ]
    },
    {
      "cell_type": "code",
      "source": [
        "#84\n",
        "#Multiple except statements are allowed.\n",
        "#Use specific exceptions first, then generic last.\n",
        "\n",
        "##Some built-in exception classes in Python\n",
        "#Exception- Class\tDescription\n",
        "#Exception-\tBase class for all exceptions\n",
        "#ValueError-\tInvalid value, e.g., int(\"abc\")\n",
        "#TypeError-\tWrong data type used\n",
        "#ZeroDivisionError-\tDivision by zero\n",
        "#IndexError-\tIndex out of range\n",
        "#KeyError-\tKey not found in dictionary\n",
        "#FileNotFoundError-\tFile does not exist\n",
        "#NameError-\tVariable not defined\n",
        "#IOError / OSError-\tInput/output error\n",
        "#ImportError-\tModule not found"
      ],
      "metadata": {
        "id": "tawfNcFdxQH0"
      },
      "execution_count": 30,
      "outputs": []
    },
    {
      "cell_type": "code",
      "source": [
        "#85\n",
        "#the else part of a try-except-else block is executed only if no exception occurs in the try block.\n",
        "\n",
        "#Explanation:\n",
        "\n",
        "#try → Code that might raise an exception.\n",
        "\n",
        "#except → Handles specific exceptions if they occur.\n",
        "\n",
        "#else → Runs only if the try block succeeds without any exceptions.\n",
        "\n",
        "#finally → Runs always, whether an exception occurred or not.\n",
        "\n"
      ],
      "metadata": {
        "id": "TIKBW_r6yXrJ"
      },
      "execution_count": 31,
      "outputs": []
    },
    {
      "cell_type": "code",
      "source": [
        "#86\n",
        "try:\n",
        "    # Code that may raise exceptions\n",
        "    num = int(input(\"Enter a number: \"))\n",
        "    result = 10 / num\n",
        "except (ValueError, ZeroDivisionError) as e:\n",
        "    print(\"An error occurred:\", e)\n"
      ],
      "metadata": {
        "colab": {
          "base_uri": "https://localhost:8080/"
        },
        "id": "L0M-nS1Dy3H-",
        "outputId": "56d42642-2d87-4784-d117-4ec9dbdc24d0"
      },
      "execution_count": 33,
      "outputs": [
        {
          "name": "stdout",
          "output_type": "stream",
          "text": [
            "Enter a number: 5\n"
          ]
        }
      ]
    },
    {
      "cell_type": "code",
      "source": [
        "#87\n",
        "#Key Points:\n",
        "\n",
        "#Runs after the try block and any handled exceptions.\n",
        "\n",
        "#Used to release resources like files, network connections, or database connections.\n",
        "\n",
        "#Executes even if the try or except block has a return, break, or continue.\n"
      ],
      "metadata": {
        "id": "tJ7qMoSgy5kg"
      },
      "execution_count": 34,
      "outputs": []
    },
    {
      "cell_type": "code",
      "source": [
        "#88\n",
        "'1' == 1\n",
        "#Explanation:\n",
        "\n",
        "#'1' is a string.\n",
        "\n",
        "#1 is an integer.\n",
        "\n",
        "#Python does not automatically convert types when using ==.\n"
      ],
      "metadata": {
        "colab": {
          "base_uri": "https://localhost:8080/"
        },
        "id": "i725P1L3zT4a",
        "outputId": "163f0f60-603f-4e7b-8b3b-4bd54c7552bc"
      },
      "execution_count": 35,
      "outputs": [
        {
          "output_type": "execute_result",
          "data": {
            "text/plain": [
              "False"
            ]
          },
          "metadata": {},
          "execution_count": 35
        }
      ]
    },
    {
      "cell_type": "code",
      "source": [
        "#89\n",
        "##try:\n",
        "    # Code that may raise an exception\n",
        "##except SomeException:\n",
        "    # Handle the exception\n",
        "##finally:\n",
        "    # Code that runs no matter what\n",
        "\n",
        "try:\n",
        "    num = int(input(\"Enter a number: \"))\n",
        "    result = 10 / num\n",
        "except ZeroDivisionError:\n",
        "    print(\"Error: Cannot divide by zero!\")\n",
        "except ValueError:\n",
        "    print(\"Error: Invalid input! Please enter a number.\")\n",
        "finally:\n",
        "    print(\"Execution of the program is completed.\")\n",
        "\n",
        "\n",
        "\n"
      ],
      "metadata": {
        "colab": {
          "base_uri": "https://localhost:8080/"
        },
        "id": "hXogYX6zzkwN",
        "outputId": "7fd018a0-385e-4e5a-aba9-720207d2989f"
      },
      "execution_count": 36,
      "outputs": [
        {
          "output_type": "stream",
          "name": "stdout",
          "text": [
            "Enter a number: 5\n",
            "Execution of the program is completed.\n"
          ]
        }
      ]
    },
    {
      "cell_type": "code",
      "source": [
        "#90\n",
        "class NotOddNumberError(Exception):\n",
        "    \"\"\"Custom exception for non-odd numbers.\"\"\"\n",
        "    pass\n",
        "\n",
        "try:\n",
        "    num = int(input(\"Enter an odd number: \"))\n",
        "    if num % 2 == 0:\n",
        "        raise NotOddNumberError(\"Error: You entered an even number!\")\n",
        "    print(f\"Good! You entered an odd number: {num}\")\n",
        "except ValueError:\n",
        "    print(\"Invalid input! Please enter a valid integer.\")\n",
        "except NotOddNumberError as e:\n",
        "    print(e)\n"
      ],
      "metadata": {
        "colab": {
          "base_uri": "https://localhost:8080/"
        },
        "id": "2hlh8CD80Iqm",
        "outputId": "391d872a-92da-46d6-817b-c42d0169b518"
      },
      "execution_count": 37,
      "outputs": [
        {
          "output_type": "stream",
          "name": "stdout",
          "text": [
            "Enter an odd number: 7\n",
            "Good! You entered an odd number: 7\n"
          ]
        }
      ]
    },
    {
      "cell_type": "code",
      "source": [],
      "metadata": {
        "id": "zHCSFxdW0uwr"
      },
      "execution_count": null,
      "outputs": []
    }
  ]
}